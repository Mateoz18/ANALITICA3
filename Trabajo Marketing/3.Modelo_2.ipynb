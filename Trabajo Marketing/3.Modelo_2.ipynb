{
 "cells": [
  {
   "cell_type": "markdown",
   "metadata": {
    "id": "CbzLIeslzPvD"
   },
   "source": [
    "# <font color='056938'> **Librerias** </font>"
   ]
  },
  {
   "cell_type": "code",
   "execution_count": 1,
   "metadata": {
    "executionInfo": {
     "elapsed": 10894,
     "status": "ok",
     "timestamp": 1746992412855,
     "user": {
      "displayName": "MELISSA PELAEZ MORA",
      "userId": "16864483579902586749"
     },
     "user_tz": 300
    },
    "id": "FG2mtrVnrUM2"
   },
   "outputs": [],
   "source": [
    "import numpy as np\n",
    "import pandas as pd\n",
    "import sqlite3 as sql\n",
    "import plotly.graph_objs as go ### para gráficos\n",
    "import plotly.express as px\n",
    "import matplotlib.pyplot as plt\n",
    "from sklearn.preprocessing import MinMaxScaler\n",
    "from sklearn.preprocessing import StandardScaler\n",
    "from sklearn.preprocessing import LabelEncoder\n",
    "from ipywidgets import interact ## para análisis interactivo\n",
    "from sklearn import neighbors ### basado en contenido un solo producto consumido\n",
    "import joblib\n",
    "from sklearn.neighbors import NearestNeighbors"
   ]
  },
  {
   "cell_type": "markdown",
   "metadata": {
    "id": "3ltnWkADzYQD"
   },
   "source": [
    "# <font color='056938'> **Cargar base de datos** </font>"
   ]
  },
  {
   "cell_type": "code",
   "execution_count": null,
   "metadata": {
    "id": "XZfhDGSZri2d"
   },
   "outputs": [],
   "source": [
    "# Conexion con Drive\n",
    "from google.colab import drive\n",
    "drive.mount('/content/drive')"
   ]
  },
  {
   "cell_type": "code",
   "execution_count": null,
   "metadata": {
    "id": "c8U7CwFyroki"
   },
   "outputs": [],
   "source": [
    "# Cambio de directorio de Trabajo\n",
    "import os\n",
    "import sys\n",
    "path = '/content/drive/MyDrive/Mod2/ANALITICA3'\n",
    "os.chdir(path)\n",
    "sys.path.append(path)"
   ]
  },
  {
   "cell_type": "code",
   "execution_count": null,
   "metadata": {
    "id": "pVtf-rq2rr9E"
   },
   "outputs": [],
   "source": [
    "import sqlite3 as sql\n",
    "import pandas as pd\n",
    "import numpy as np\n",
    "\n",
    "conn=sql.connect('/content/drive/MyDrive/Mod2/ANALITICA3/data/db_movies')\n",
    "cur=conn.cursor() ###para funciones que ejecutan sql en base de datos"
   ]
  },
  {
   "cell_type": "code",
   "execution_count": null,
   "metadata": {
    "id": "fLPzH0Ymrufo"
   },
   "outputs": [],
   "source": [
    "### para verificar las tablas que hay disponibles\n",
    "cur.execute(\"SELECT name FROM sqlite_master where type='table' \")\n",
    "cur.fetchall()"
   ]
  },
  {
   "cell_type": "code",
   "execution_count": null,
   "metadata": {
    "id": "xbHX3njorway"
   },
   "outputs": [],
   "source": [
    "# Cargas la tabla que ya contiene los datos procesados\n",
    "tabla_completa = pd.read_sql_query(\"SELECT * FROM full_ratings\", conn)\n",
    "\n",
    "tabla_completa"
   ]
  },
  {
   "cell_type": "code",
   "execution_count": null,
   "metadata": {
    "id": "zPYWC0vU16Sx"
   },
   "outputs": [],
   "source": [
    "tabla_completa.info()#Se confirma que año sea de tipo entero"
   ]
  },
  {
   "cell_type": "markdown",
   "metadata": {
    "id": "vmAle9sKzgfH"
   },
   "source": [
    "# <font color='056938'> **Sistema de recomendación basado en contenido** </font>"
   ]
  },
  {
   "cell_type": "code",
   "execution_count": null,
   "metadata": {
    "id": "PGe4F8uTa5hw"
   },
   "outputs": [],
   "source": [
    "#se escala el año para que este en el mismo rango\n",
    "sc = StandardScaler()\n",
    "tabla_completa[[\"year_sc\"]]=sc.fit_transform(tabla_completa[['movie_year']])"
   ]
  },
  {
   "cell_type": "markdown",
   "metadata": {
    "id": "G-XTvlW9MjhX"
   },
   "source": [
    "Este codigo de abajo es provisional mientras averiguo como traer la que monte en el sql :)"
   ]
  },
  {
   "cell_type": "code",
   "execution_count": null,
   "metadata": {
    "id": "j8NcW4ohze5n"
   },
   "outputs": [],
   "source": [
    "# Separar los géneros por el carácter '|' y expandirlos en múltiples filas, se hace de esta manera ya que sqlite no tiene esa funcion SALE EN FILAS\n",
    "df_genres = tabla_completa.assign(movie_genres=tabla_completa['movie_genres'].str.split('|')).explode('movie_genres')\n",
    "\n",
    "# Renombrar para claridad\n",
    "df_genres = df_genres.rename(columns={'movie_genres': 'genre'})\n",
    "\n",
    "df_genres"
   ]
  },
  {
   "cell_type": "code",
   "execution_count": null,
   "metadata": {
    "collapsed": true,
    "id": "wDC_3c_HxIhI"
   },
   "outputs": [],
   "source": [
    "#sacar las filas que no se van a utilizar\n",
    "movie_dum1 = df_genres.drop(columns = ['user_id', 'movie_rating', 'movie_timestamp', 'movie_year', 'movie_title'])\n",
    "movie_dum1"
   ]
  },
  {
   "cell_type": "code",
   "execution_count": null,
   "metadata": {
    "id": "wxt2zOW8yIqy"
   },
   "outputs": [],
   "source": [
    "movie_dum1['genre'].nunique()# se verifica cuantos generos únicos hay"
   ]
  },
  {
   "cell_type": "code",
   "execution_count": null,
   "metadata": {
    "id": "sn6fMhmN5JW-"
   },
   "outputs": [],
   "source": [
    "#se dumiza los generos\n",
    "col_dum = ['genre']\n",
    "movie_dum2 = pd.get_dummies(movie_dum1, columns = col_dum)\n",
    "movie_dum2"
   ]
  },
  {
   "cell_type": "code",
   "execution_count": null,
   "metadata": {
    "id": "FxdQEHK4GYhj"
   },
   "outputs": [],
   "source": [
    "#Al quedar varios registros por filas de la misma pelicula pero todas con genero diferente se agrupan para disminuir la cantidad de datos a procesar a solamente un registro de pelicula\n",
    "movie_unificado = movie_dum2.groupby('movie_id', as_index=False).max()\n",
    "movie_unificado"
   ]
  },
  {
   "cell_type": "code",
   "execution_count": null,
   "metadata": {
    "id": "iXOw975d8ghO"
   },
   "outputs": [],
   "source": [
    "#se define el modelo knn con 10 recomendaciones, se usa la métrica coseno\n",
    "model = neighbors.NearestNeighbors(n_neighbors=10, metric='cosine')"
   ]
  },
  {
   "cell_type": "code",
   "execution_count": null,
   "metadata": {
    "id": "uTeCGb3MAHCf"
   },
   "outputs": [],
   "source": [
    "#se entrena el modelo\n",
    "model.fit(movie_unificado)"
   ]
  },
  {
   "cell_type": "code",
   "execution_count": null,
   "metadata": {
    "id": "8ebADYGaC3EX"
   },
   "outputs": [],
   "source": [
    "#se definen los arrays de distancia(en terminos del coseno) y los ids para saber que pelicula es\n",
    "dist, idlist = model.kneighbors(movie_unificado)"
   ]
  },
  {
   "cell_type": "code",
   "execution_count": null,
   "metadata": {
    "id": "EUMFrvtsIZ2_"
   },
   "outputs": [],
   "source": [
    "#distancias mas cercanas, entre mas cercano a cero mas se parecen las peliculas, esas son las que se van a recomendar\n",
    "distancias = pd.DataFrame(dist)\n",
    "distancias"
   ]
  },
  {
   "cell_type": "code",
   "execution_count": null,
   "metadata": {
    "id": "_NfEciGyImfH"
   },
   "outputs": [],
   "source": [
    "#Para saber a que id de pelicula es\n",
    "id_list = pd.DataFrame(idlist)#\n",
    "id_list"
   ]
  },
  {
   "cell_type": "code",
   "execution_count": null,
   "metadata": {
    "id": "YOqwsFYUKRuD"
   },
   "outputs": [],
   "source": [
    "#función interactiva para consultar las recomendaciones\n",
    "def MovieRecommender(movie_name = list(tabla_completa['movie_title'].value_counts().index)):\n",
    "    movie_list_name = []\n",
    "    movie_id = tabla_completa[tabla_completa['movie_title'] == movie_name].index\n",
    "    movie_id = movie_id[0]\n",
    "    for newid in idlist[movie_id]:\n",
    "        movie_list_name.append(tabla_completa.loc[newid].movie_title)\n",
    "    return movie_list_name"
   ]
  },
  {
   "cell_type": "code",
   "execution_count": null,
   "metadata": {
    "id": "x5J0YGcfLv12"
   },
   "outputs": [],
   "source": [
    "print(interact(MovieRecommender))"
   ]
  },
  {
   "cell_type": "code",
   "execution_count": null,
   "metadata": {
    "id": "hW7kB8PL2-Pc"
   },
   "outputs": [],
   "source": [
    "import nbformat\n",
    "\n",
    "# Path to your notebook\n",
    "input_notebook = '/content/drive/MyDrive/Mod2/ANALITICA3/Trabajo Marketing/Modelo_2.ipynb'\n",
    "output_notebook = '/content/drive/MyDrive/Mod2/ANALITICA3/Trabajo Marketing/3.Modelo_2.ipynb'\n",
    "\n",
    "# Load the notebook\n",
    "with open(input_notebook, 'r') as f:\n",
    "    notebook = nbformat.read(f, as_version=4)\n",
    "\n",
    "# Check if the notebook has 'metadata.widgets' and remove it\n",
    "if 'widgets' in notebook.metadata:\n",
    "    del notebook.metadata['widgets']  # Removes widgets metadata completely\n",
    "\n",
    "# Save the modified notebook\n",
    "with open(output_notebook, 'w') as f:\n",
    "    nbformat.write(notebook, f)\n",
    "\n",
    "print(f\"Fixed notebook saved as {output_notebook}\")"
   ]
  }
 ],
 "metadata": {
  "colab": {
   "provenance": []
  },
  "kernelspec": {
   "display_name": "Python 3",
   "name": "python3"
  },
  "language_info": {
   "name": "python"
  }
 },
 "nbformat": 4,
 "nbformat_minor": 0
}
